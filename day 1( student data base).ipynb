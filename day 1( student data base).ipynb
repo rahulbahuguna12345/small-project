{
 "cells": [
  {
   "cell_type": "code",
   "execution_count": 1,
   "id": "0a3ff556-b790-4873-9157-89fd83f57cfe",
   "metadata": {},
   "outputs": [],
   "source": [
    "#student data base\n",
    "#student id\n",
    "#gender\n",
    "#department\n",
    "#sesnal pertage\n",
    "#final sem maks\n",
    "#backlog"
   ]
  },
  {
   "cell_type": "code",
   "execution_count": 2,
   "id": "45b64efa-f239-40df-a0b7-2be0a81f6537",
   "metadata": {},
   "outputs": [],
   "source": [
    "student_id =['s01','s02','s03','s04','s05','s06','s07','s08','s09']"
   ]
  },
  {
   "cell_type": "code",
   "execution_count": 3,
   "id": "30a62a24-e964-44ec-937b-917aa46b2370",
   "metadata": {},
   "outputs": [],
   "source": [
    "gender =['m','m', 'm', 'f', 'f', 'm', 'm', 'f' ,'f']"
   ]
  },
  {
   "cell_type": "code",
   "execution_count": 4,
   "id": "4dd98a70-860b-4792-bb6e-dc9bb55169ea",
   "metadata": {},
   "outputs": [],
   "source": [
    "sesnal_pertage =[55,55.6,65,89,57,85,63,23,33]"
   ]
  },
  {
   "cell_type": "code",
   "execution_count": 5,
   "id": "e545589f-8a1d-4307-ac40-bbf338d0d154",
   "metadata": {},
   "outputs": [],
   "source": [
    "total_maks= [98,97,94,95,65,64,69,68,67]"
   ]
  },
  {
   "cell_type": "code",
   "execution_count": 6,
   "id": "1b729bc8-3666-44de-b991-d98fd6363c73",
   "metadata": {},
   "outputs": [],
   "source": [
    "backlog=['wb','b','wb','b','wb','wb','b','wb','b']"
   ]
  },
  {
   "cell_type": "code",
   "execution_count": 7,
   "id": "aad94812-a856-4da3-9fba-40ddc54be2b3",
   "metadata": {},
   "outputs": [],
   "source": [
    "dwpartment = ['ce','me','ee','ec','cs','am','it','me','cs']"
   ]
  },
  {
   "cell_type": "code",
   "execution_count": 8,
   "id": "177e4933-ef4f-4c20-9bb0-07b9ba075184",
   "metadata": {},
   "outputs": [
    {
     "data": {
      "text/plain": [
       "9"
      ]
     },
     "execution_count": 8,
     "metadata": {},
     "output_type": "execute_result"
    }
   ],
   "source": [
    "#if any student gets more than 70% in sesnal incres his maks by 2%\n",
    "len(gender)"
   ]
  },
  {
   "cell_type": "code",
   "execution_count": 9,
   "id": "1ae0a3c4-e3be-4e13-a59d-322888d818af",
   "metadata": {},
   "outputs": [
    {
     "name": "stdout",
     "output_type": "stream",
     "text": [
      "maks dosnt change\n",
      "maks dosnt change\n"
     ]
    }
   ],
   "source": [
    "for i in range(len(student_id)):\n",
    "    if sesnal_pertage[i]>50 :\n",
    "        total_maks[i]=total_maks[i]+total_maks[i]*0.02\n",
    "    else :\n",
    "        print('maks dosnt change')"
   ]
  },
  {
   "cell_type": "code",
   "execution_count": 10,
   "id": "81df78e2-33d2-427a-8f47-e19e26a25a94",
   "metadata": {},
   "outputs": [
    {
     "data": {
      "text/plain": [
       "[99.96, 98.94, 95.88, 96.9, 66.3, 65.28, 70.38, 68, 67]"
      ]
     },
     "execution_count": 10,
     "metadata": {},
     "output_type": "execute_result"
    }
   ],
   "source": [
    " total_maks #updated"
   ]
  },
  {
   "cell_type": "code",
   "execution_count": 11,
   "id": "7a8dbbe9-8e34-4a1b-af41-1080604a9394",
   "metadata": {},
   "outputs": [],
   "source": [
    "# student s01 and s05 updated backlog notice, has been clear"
   ]
  },
  {
   "cell_type": "code",
   "execution_count": 12,
   "id": "442e398e-38ef-4ffe-b45d-a271e686f822",
   "metadata": {},
   "outputs": [],
   "source": [
    "updated_student = ['s01','s05']"
   ]
  },
  {
   "cell_type": "code",
   "execution_count": 13,
   "id": "3da19a77-bf9f-4bf2-8c72-92a83feb12f6",
   "metadata": {},
   "outputs": [],
   "source": [
    "for i in range(len(student_id)):\n",
    "    if student_id[i] in updated_student:\n",
    "        backlog[i] = 'b'"
   ]
  },
  {
   "cell_type": "code",
   "execution_count": 14,
   "id": "419dccf4-26bc-408e-8898-6ee13a289fb3",
   "metadata": {},
   "outputs": [
    {
     "data": {
      "text/plain": [
       "['b', 'b', 'wb', 'b', 'b', 'wb', 'b', 'wb', 'b']"
      ]
     },
     "execution_count": 14,
     "metadata": {},
     "output_type": "execute_result"
    }
   ],
   "source": [
    "backlog #updated"
   ]
  },
  {
   "cell_type": "code",
   "execution_count": 15,
   "id": "b70c8a99-3767-4bb5-be70-e1c2172b626a",
   "metadata": {},
   "outputs": [
    {
     "data": {
      "text/plain": [
       "[99.96, 98.94, 95.88, 96.9, 66.3, 65.28, 70.38, 68, 67]"
      ]
     },
     "execution_count": 15,
     "metadata": {},
     "output_type": "execute_result"
    }
   ],
   "source": [
    "total_maks #maks b update ho gye"
   ]
  },
  {
   "cell_type": "code",
   "execution_count": 16,
   "id": "9958e4ef-39c6-4a79-ad26-d622d394cd5a",
   "metadata": {},
   "outputs": [],
   "source": [
    "#if the student hasn backlog and maks more than 75, and they are me department they will give full scoolarship\n",
    "#if the student has backlog and maks more than 60 and less than 75, they will give 50% scoolarship\n"
   ]
  },
  {
   "cell_type": "code",
   "execution_count": 17,
   "id": "80c01cbd-37d6-4ba4-97d9-413461292d1c",
   "metadata": {},
   "outputs": [],
   "source": [
    "#1st mathods"
   ]
  },
  {
   "cell_type": "code",
   "execution_count": 18,
   "id": "c5960cb6-282e-4eb9-a4aa-25094bb5ae04",
   "metadata": {},
   "outputs": [],
   "source": [
    "schoolar_ship =['no scolarship' for _ in range(len(student_id))]"
   ]
  },
  {
   "cell_type": "code",
   "execution_count": 19,
   "id": "abdaed20-60c2-4f70-bd54-4a59fccdbdfd",
   "metadata": {},
   "outputs": [
    {
     "data": {
      "text/plain": [
       "['no scolarship',\n",
       " 'no scolarship',\n",
       " 'no scolarship',\n",
       " 'no scolarship',\n",
       " 'no scolarship',\n",
       " 'no scolarship',\n",
       " 'no scolarship',\n",
       " 'no scolarship',\n",
       " 'no scolarship']"
      ]
     },
     "execution_count": 19,
     "metadata": {},
     "output_type": "execute_result"
    }
   ],
   "source": [
    "schoolar_ship"
   ]
  },
  {
   "cell_type": "code",
   "execution_count": 20,
   "id": "c7df743f-e0b5-40c1-a38c-090239820cc2",
   "metadata": {},
   "outputs": [],
   "source": [
    "#2nd method"
   ]
  },
  {
   "cell_type": "code",
   "execution_count": 21,
   "id": "2397c980-1b46-41a3-99f6-6a05c8b3fb01",
   "metadata": {},
   "outputs": [],
   "source": [
    "schoolar_ships = []\n",
    "for  _ in range(len(student_id)):\n",
    "    schoolar_ships.append('no scolarship 2')"
   ]
  },
  {
   "cell_type": "code",
   "execution_count": 22,
   "id": "6cc7d184-3d87-48f0-8e55-f65e16a7e776",
   "metadata": {},
   "outputs": [
    {
     "data": {
      "text/plain": [
       "['no scolarship 2',\n",
       " 'no scolarship 2',\n",
       " 'no scolarship 2',\n",
       " 'no scolarship 2',\n",
       " 'no scolarship 2',\n",
       " 'no scolarship 2',\n",
       " 'no scolarship 2',\n",
       " 'no scolarship 2',\n",
       " 'no scolarship 2']"
      ]
     },
     "execution_count": 22,
     "metadata": {},
     "output_type": "execute_result"
    }
   ],
   "source": [
    "schoolar_ships"
   ]
  },
  {
   "cell_type": "code",
   "execution_count": 36,
   "id": "447ce4e4-a34e-4b9b-8c1a-bdcf84bde9e9",
   "metadata": {
    "tags": []
   },
   "outputs": [
    {
     "name": "stdout",
     "output_type": "stream",
     "text": [
      "no scolarship\n",
      "student gets full scolarship to s02\n",
      "no scolarship\n",
      "no scolarship\n",
      "student gets 50% scolarship to s05\n",
      "no scolarship\n",
      "student gets 50% scolarship to s07\n",
      "no scolarship\n",
      "student gets 50% scolarship to s09\n"
     ]
    }
   ],
   "source": [
    "for i in range(len(student_id)):\n",
    "    if dwpartment[i] == 'me' and total_maks[i]>75 and backlog[i] == 'b' :\n",
    "        schoolar_ships[i] = 'full scolarship'\n",
    "        print(f'student gets full scolarship to {student_id[i]}')\n",
    "    elif backlog[i] == 'b' and 60<total_maks[i]<=74:\n",
    "        schoolar_ships[i] = '50% scolarship'\n",
    "        print(f'student gets 50% scolarship to {student_id[i]}')\n",
    "    else:\n",
    "        print('no scolarship')\n",
    "  "
   ]
  },
  {
   "cell_type": "code",
   "execution_count": 33,
   "id": "92a80203-fdb1-487d-92aa-9f9b174ccda7",
   "metadata": {},
   "outputs": [],
   "source": [
    "a=10\n",
    "b=5\n",
    "c=a+b"
   ]
  },
  {
   "cell_type": "code",
   "execution_count": 34,
   "id": "976c1460-3a2f-4a72-a903-64ac81936c25",
   "metadata": {},
   "outputs": [
    {
     "name": "stdout",
     "output_type": "stream",
     "text": [
      "sum of 10 and 5 is 15 \n"
     ]
    }
   ],
   "source": [
    "print(f'sum of {a} and {b} is {c} ')"
   ]
  },
  {
   "cell_type": "code",
   "execution_count": 37,
   "id": "3c1ce827-1dad-4d33-b1ba-c333265e9078",
   "metadata": {},
   "outputs": [
    {
     "data": {
      "text/plain": [
       "['no scolarship 2',\n",
       " 'full scolarship',\n",
       " 'no scolarship 2',\n",
       " 'no scolarship 2',\n",
       " '50% scolarship',\n",
       " 'no scolarship 2',\n",
       " '50% scolarship',\n",
       " 'no scolarship 2',\n",
       " '50% scolarship']"
      ]
     },
     "execution_count": 37,
     "metadata": {},
     "output_type": "execute_result"
    }
   ],
   "source": [
    " schoolar_ships"
   ]
  },
  {
   "cell_type": "code",
   "execution_count": 39,
   "id": "dea12891-3194-45cc-a57b-ad2a8cb50429",
   "metadata": {},
   "outputs": [],
   "source": [
    "student_data_base ={\n",
    "    'students id' : student_id,\n",
    "    'gender': gender,\n",
    "    'sesnal pertage' : sesnal_pertage,\n",
    "    'total maks' : total_maks,\n",
    "    'backlog' : backlog,\n",
    "    'department' : dwpartment,\n",
    "    ' schoolar ships' :  schoolar_ships\n",
    "\n",
    "\n",
    "}"
   ]
  },
  {
   "cell_type": "code",
   "execution_count": 40,
   "id": "9dc57953-2f2d-4fae-a7c4-202a35cb6cb4",
   "metadata": {},
   "outputs": [
    {
     "data": {
      "text/plain": [
       "{'students id': ['s01',\n",
       "  's02',\n",
       "  's03',\n",
       "  's04',\n",
       "  's05',\n",
       "  's06',\n",
       "  's07',\n",
       "  's08',\n",
       "  's09'],\n",
       " 'gender': ['m', 'm', 'm', 'f', 'f', 'm', 'm', 'f', 'f'],\n",
       " 'sesnal pertage': [55, 55.6, 65, 89, 57, 85, 63, 23, 33],\n",
       " 'total maks': [99.96, 98.94, 95.88, 96.9, 66.3, 65.28, 70.38, 68, 67],\n",
       " 'backlog': ['b', 'b', 'wb', 'b', 'b', 'wb', 'b', 'wb', 'b'],\n",
       " 'department': ['ce', 'me', 'ee', 'ec', 'cs', 'am', 'it', 'me', 'cs'],\n",
       " ' schoolar ships': ['no scolarship 2',\n",
       "  'full scolarship',\n",
       "  'no scolarship 2',\n",
       "  'no scolarship 2',\n",
       "  '50% scolarship',\n",
       "  'no scolarship 2',\n",
       "  '50% scolarship',\n",
       "  'no scolarship 2',\n",
       "  '50% scolarship']}"
      ]
     },
     "execution_count": 40,
     "metadata": {},
     "output_type": "execute_result"
    }
   ],
   "source": [
    "student_data_base"
   ]
  },
  {
   "cell_type": "code",
   "execution_count": 41,
   "id": "909c13f4-ab9e-4152-a290-4d69a33b9b25",
   "metadata": {},
   "outputs": [
    {
     "data": {
      "text/plain": [
       "dict_keys(['students id', 'gender', 'sesnal pertage', 'total maks', 'backlog', 'department', ' schoolar ships'])"
      ]
     },
     "execution_count": 41,
     "metadata": {},
     "output_type": "execute_result"
    }
   ],
   "source": [
    "student_data_base.keys()"
   ]
  },
  {
   "cell_type": "code",
   "execution_count": 42,
   "id": "858d8913-ef44-458e-a098-a69f15b72137",
   "metadata": {},
   "outputs": [
    {
     "data": {
      "text/plain": [
       "dict_values([['s01', 's02', 's03', 's04', 's05', 's06', 's07', 's08', 's09'], ['m', 'm', 'm', 'f', 'f', 'm', 'm', 'f', 'f'], [55, 55.6, 65, 89, 57, 85, 63, 23, 33], [99.96, 98.94, 95.88, 96.9, 66.3, 65.28, 70.38, 68, 67], ['b', 'b', 'wb', 'b', 'b', 'wb', 'b', 'wb', 'b'], ['ce', 'me', 'ee', 'ec', 'cs', 'am', 'it', 'me', 'cs'], ['no scolarship 2', 'full scolarship', 'no scolarship 2', 'no scolarship 2', '50% scolarship', 'no scolarship 2', '50% scolarship', 'no scolarship 2', '50% scolarship']])"
      ]
     },
     "execution_count": 42,
     "metadata": {},
     "output_type": "execute_result"
    }
   ],
   "source": [
    "student_data_base.values()"
   ]
  },
  {
   "cell_type": "code",
   "execution_count": null,
   "id": "21404cd2-f9ed-436a-9dd6-b96a357fa40e",
   "metadata": {},
   "outputs": [],
   "source": []
  }
 ],
 "metadata": {
  "kernelspec": {
   "display_name": "Python 3 (ipykernel)",
   "language": "python",
   "name": "python3"
  },
  "language_info": {
   "codemirror_mode": {
    "name": "ipython",
    "version": 3
   },
   "file_extension": ".py",
   "mimetype": "text/x-python",
   "name": "python",
   "nbconvert_exporter": "python",
   "pygments_lexer": "ipython3",
   "version": "3.10.8"
  }
 },
 "nbformat": 4,
 "nbformat_minor": 5
}
